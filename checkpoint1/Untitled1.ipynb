{
 "cells": [
  {
   "cell_type": "code",
   "execution_count": 2,
   "metadata": {},
   "outputs": [
    {
     "ename": "NameError",
     "evalue": "name 'remove_percents' is not defined",
     "output_type": "error",
     "traceback": [
      "\u001b[1;31m---------------------------------------------------------------------------\u001b[0m",
      "\u001b[1;31mNameError\u001b[0m                                 Traceback (most recent call last)",
      "\u001b[1;32m<ipython-input-2-e4e50f0ee7e1>\u001b[0m in \u001b[0;36m<module>\u001b[1;34m\u001b[0m\n\u001b[0;32m      7\u001b[0m \u001b[0mpct_DV\u001b[0m \u001b[1;33m=\u001b[0m \u001b[1;33m[\u001b[0m\u001b[1;34m'Vitamin A (% DV)'\u001b[0m\u001b[1;33m,\u001b[0m \u001b[1;34m'Vitamin C (% DV)'\u001b[0m\u001b[1;33m,\u001b[0m \u001b[1;34m'Calcium (% DV)'\u001b[0m\u001b[1;33m,\u001b[0m \u001b[1;34m'Iron (% DV)'\u001b[0m\u001b[1;33m]\u001b[0m\u001b[1;33m\u001b[0m\u001b[1;33m\u001b[0m\u001b[0m\n\u001b[0;32m      8\u001b[0m \u001b[1;32mfor\u001b[0m \u001b[0mcol\u001b[0m \u001b[1;32min\u001b[0m \u001b[0mpct_DV\u001b[0m\u001b[1;33m:\u001b[0m\u001b[1;33m\u001b[0m\u001b[1;33m\u001b[0m\u001b[0m\n\u001b[1;32m----> 9\u001b[1;33m     \u001b[0mdf\u001b[0m \u001b[1;33m=\u001b[0m \u001b[0mremove_percents\u001b[0m\u001b[1;33m(\u001b[0m\u001b[0mdf\u001b[0m\u001b[1;33m,\u001b[0m \u001b[0mcol\u001b[0m\u001b[1;33m)\u001b[0m\u001b[1;33m\u001b[0m\u001b[1;33m\u001b[0m\u001b[0m\n\u001b[0m\u001b[0;32m     10\u001b[0m \u001b[1;33m\u001b[0m\u001b[0m\n\u001b[0;32m     11\u001b[0m     \u001b[1;31m# the column 'Iron (% DV)' has missing values when the drink has no iron\u001b[0m\u001b[1;33m\u001b[0m\u001b[1;33m\u001b[0m\u001b[1;33m\u001b[0m\u001b[0m\n",
      "\u001b[1;31mNameError\u001b[0m: name 'remove_percents' is not defined"
     ]
    }
   ],
   "source": [
    "def remove_percents(df, col):\n",
    "    return df"
   ]
  },
  {
   "cell_type": "code",
   "execution_count": 4,
   "metadata": {},
   "outputs": [
    {
     "data": {
      "text/plain": [
       "0      0%\n",
       "1      0%\n",
       "2      0%\n",
       "3      0%\n",
       "4      0%\n",
       "       ..\n",
       "237    8%\n",
       "238    0%\n",
       "239    0%\n",
       "240    0%\n",
       "241    0%\n",
       "Name: Vitamin C (% DV), Length: 242, dtype: object"
      ]
     },
     "execution_count": 4,
     "metadata": {},
     "output_type": "execute_result"
    }
   ],
   "source": [
    "df.head()\n",
    "\n",
    "df['Vitamin C (% DV)']"
   ]
  },
  {
   "cell_type": "code",
   "execution_count": null,
   "metadata": {},
   "outputs": [],
   "source": [
    "import pandas as pd\n",
    "# first, read in the raw data\n",
    "df = pd.read_csv('../data/starbucks.csv')\n",
    "    \n",
    "# the columns below represent percent daily value and are stored as strings with a percent sign, e.g. '0%'\n",
    "    # complete the remove_percents function to remove the percent symbol and convert the columns to a numeric type\n",
    "pct_DV = ['Vitamin A (% DV)', 'Vitamin C (% DV)', 'Calcium (% DV)', 'Iron (% DV)']\n",
    "for col in pct_DV:\n",
    "    df = remove_percents(df, col)\n",
    "    \n",
    "    # the column 'Iron (% DV)' has missing values when the drink has no iron\n",
    "    # complete the fill_zero_iron function to fix this\n",
    "df = fill_zero_iron(df)\n",
    "\n",
    "    # the column 'Caffeine (mg)' has some missing values and some 'varies' values\n",
    "    # complete the fix_caffeine function to deal with these values\n",
    "    # note: you may choose to fill in the values with the mean/median, or drop those values, etc.\n",
    "df = fix_caffeine(df)\n",
    "    \n",
    "    # the columns below are string columns... starbucks being starbucks there are some fancy characters and symbols in their names\n",
    "    # complete the fix_strings function to convert these strings to lowercase and remove non-alphabet characters\n",
    "names = ['Beverage_category', 'Beverage']\n",
    "for col in names:\n",
    "    df = fix_strings(df, col)\n",
    "    \n",
    "    # the column names in this data are clear but inconsistent\n",
    "    # complete the standardize_names function to convert all column names to lower case and remove the units (in parentheses)\n",
    "df = standardize_names(df)\n",
    "    \n",
    "    # now that the data is all clean, save your output to the `data` folder as 'starbucks_clean.csv'\n",
    "    # you will use this file in checkpoint 2\n",
    "    \n",
    "    \n",
    "\n",
    "if __name__ == \"__main__\":\n",
    "    main()\n"
   ]
  },
  {
   "cell_type": "code",
   "execution_count": null,
   "metadata": {},
   "outputs": [],
   "source": []
  }
 ],
 "metadata": {
  "kernelspec": {
   "display_name": "Python 3",
   "language": "python",
   "name": "python3"
  },
  "language_info": {
   "codemirror_mode": {
    "name": "ipython",
    "version": 3
   },
   "file_extension": ".py",
   "mimetype": "text/x-python",
   "name": "python",
   "nbconvert_exporter": "python",
   "pygments_lexer": "ipython3",
   "version": "3.8.3"
  }
 },
 "nbformat": 4,
 "nbformat_minor": 4
}
