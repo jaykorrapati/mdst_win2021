{
 "cells": [
  {
   "cell_type": "code",
   "execution_count": null,
   "metadata": {},
   "outputs": [],
   "source": [
    "# first, read in the raw data\n",
    "    df = pd.read_csv('../data/starbucks.csv')\n",
    "    \n",
    "    # the columns below represent percent daily value and are stored as strings with a percent sign, e.g. '0%'\n",
    "    # complete the remove_percents function to remove the percent symbol and convert the columns to a numeric type\n",
    "    pct_DV = ['Vitamin A (% DV)', 'Vitamin C (% DV)', 'Calcium (% DV)', 'Iron (% DV)']\n",
    "    for col in pct_DV:\n",
    "        df = remove_percents(df, col)\n",
    "    \n",
    "    # the column 'Iron (% DV)' has missing values when the drink has no iron\n",
    "    # complete the fill_zero_iron function to fix this\n",
    "    df = fill_zero_iron(df)\n",
    "\n",
    "    # the column 'Caffeine (mg)' has some missing values and some 'varies' values\n",
    "    # complete the fix_caffeine function to deal with these values\n",
    "    # note: you may choose to fill in the values with the mean/median, or drop those values, etc.\n",
    "    df = fix_caffeine(df)\n",
    "    \n",
    "    # the columns below are string columns... starbucks being starbucks there are some fancy characters and symbols in their names\n",
    "    # complete the fix_strings function to convert these strings to lowercase and remove non-alphabet characters\n",
    "    names = ['Beverage_category', 'Beverage']\n",
    "    for col in names:\n",
    "        df = fix_strings(df, col)\n",
    "    \n",
    "    # the column names in this data are clear but inconsistent\n",
    "    # complete the standardize_names function to convert all column names to lower case and remove the units (in parentheses)\n",
    "    df = standardize_names(df)\n",
    "    \n",
    "    # now that the data is all clean, save your output to the `data` folder as 'starbucks_clean.csv'\n",
    "    # you will use this file in checkpoint 2"
   ]
  }
 ],
 "metadata": {
  "kernelspec": {
   "display_name": "Python 3",
   "language": "python",
   "name": "python3"
  },
  "language_info": {
   "codemirror_mode": {
    "name": "ipython",
    "version": 3
   },
   "file_extension": ".py",
   "mimetype": "text/x-python",
   "name": "python",
   "nbconvert_exporter": "python",
   "pygments_lexer": "ipython3",
   "version": "3.8.3"
  }
 },
 "nbformat": 4,
 "nbformat_minor": 4
}
