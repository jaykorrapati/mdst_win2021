{
 "cells": [
  {
   "cell_type": "code",
   "execution_count": 24,
   "metadata": {},
   "outputs": [],
   "source": [
    "def remove_percents(df, col):\n",
    "    df[col] = [x if x != x else x[:-1] for x in df[col]]\n",
    "    return df"
   ]
  },
  {
   "cell_type": "code",
   "execution_count": 26,
   "metadata": {},
   "outputs": [],
   "source": [
    "def fill_zero_iron(df):\n",
    "    df['Iron (% DV)'] = df['Iron (% DV)'].fillna(0)\n",
    "    return df"
   ]
  },
  {
   "cell_type": "code",
   "execution_count": 44,
   "metadata": {},
   "outputs": [],
   "source": [
    "def fix_caffeine(df):\n",
    "    df['Caffeine (mg)'] = [np.nan if str(x).upper() == 'VARIES'else float(x) for x in df['Caffeine (mg)']]\n",
    "    df['Caffeine (mg)'].fillna(df['Caffeine (mg)'].mean(),inplace=True)\n",
    "    return df"
   ]
  },
  {
   "cell_type": "code",
   "execution_count": 53,
   "metadata": {},
   "outputs": [],
   "source": [
    "def fix_strings(df, col):\n",
    "    regex = re.compile('[^a-zA-Z ]')\n",
    "    df[col] = [regex.sub('', x) for x in df[col]]\n",
    "    df[col] = [x.lower() for x in df[col] ]\n",
    "    return df"
   ]
  },
  {
   "cell_type": "code",
   "execution_count": 65,
   "metadata": {},
   "outputs": [],
   "source": [
    "def standardize_names(df):\n",
    "    regex = re.compile(' \\(.*?\\)')\n",
    "    df.columns = [regex.sub('', x) for x in a]\n",
    "    return df"
   ]
  },
  {
   "cell_type": "code",
   "execution_count": 66,
   "metadata": {},
   "outputs": [
    {
     "ename": "NameError",
     "evalue": "name 'main' is not defined",
     "output_type": "error",
     "traceback": [
      "\u001b[1;31m---------------------------------------------------------------------------\u001b[0m",
      "\u001b[1;31mNameError\u001b[0m                                 Traceback (most recent call last)",
      "\u001b[1;32m<ipython-input-66-a1ec6ca429a9>\u001b[0m in \u001b[0;36m<module>\u001b[1;34m\u001b[0m\n\u001b[0;32m     37\u001b[0m \u001b[1;33m\u001b[0m\u001b[0m\n\u001b[0;32m     38\u001b[0m \u001b[1;32mif\u001b[0m \u001b[0m__name__\u001b[0m \u001b[1;33m==\u001b[0m \u001b[1;34m\"__main__\"\u001b[0m\u001b[1;33m:\u001b[0m\u001b[1;33m\u001b[0m\u001b[1;33m\u001b[0m\u001b[0m\n\u001b[1;32m---> 39\u001b[1;33m     \u001b[0mmain\u001b[0m\u001b[1;33m(\u001b[0m\u001b[1;33m)\u001b[0m\u001b[1;33m\u001b[0m\u001b[1;33m\u001b[0m\u001b[0m\n\u001b[0m",
      "\u001b[1;31mNameError\u001b[0m: name 'main' is not defined"
     ]
    }
   ],
   "source": [
    "import pandas as pd\n",
    "import numpy as np\n",
    "import re\n",
    "\n",
    "# first, read in the raw data\n",
    "df = pd.read_csv('../data/starbucks.csv')\n",
    "    \n",
    "# the columns below represent percent daily value and are stored as strings with a percent sign, e.g. '0%'\n",
    "    # complete the remove_percents function to remove the percent symbol and convert the columns to a numeric type\n",
    "pct_DV = ['Vitamin A (% DV)', 'Vitamin C (% DV)', 'Calcium (% DV)', 'Iron (% DV)']\n",
    "for col in pct_DV:\n",
    "    df = remove_percents(df, col)\n",
    "    \n",
    "    # the column 'Iron (% DV)' has missing values when the drink has no iron\n",
    "    # complete the fill_zero_iron function to fix this\n",
    "df = fill_zero_iron(df)\n",
    "\n",
    "    # the column 'Caffeine (mg)' has some missing values and some 'varies' values\n",
    "    # complete the fix_caffeine function to deal with these values\n",
    "    # note: you may choose to fill in the values with the mean/median, or drop those values, etc.\n",
    "df = fix_caffeine(df)\n",
    "    \n",
    "    # the columns below are string columns... starbucks being starbucks there are some fancy characters and symbols in their names\n",
    "    # complete the fix_strings function to convert these strings to lowercase and remove non-alphabet characters\n",
    "names = ['Beverage_category', 'Beverage']\n",
    "for col in names:\n",
    "    df = fix_strings(df, col)\n",
    "    \n",
    "    # the column names in this data are clear but inconsistent\n",
    "    # complete the standardize_names function to convert all column names to lower case and remove the units (in parentheses)\n",
    "df = standardize_names(df)\n",
    "    \n",
    "    # now that the data is all clean, save your output to the `data` folder as 'starbucks_clean.csv'\n",
    "    # you will use this file in checkpoint 2\n",
    "    \n",
    "    \n",
    "\n",
    "if __name__ == \"__main__\":\n",
    "    main()\n"
   ]
  },
  {
   "cell_type": "code",
   "execution_count": null,
   "metadata": {},
   "outputs": [],
   "source": []
  }
 ],
 "metadata": {
  "kernelspec": {
   "display_name": "Python 3",
   "language": "python",
   "name": "python3"
  },
  "language_info": {
   "codemirror_mode": {
    "name": "ipython",
    "version": 3
   },
   "file_extension": ".py",
   "mimetype": "text/x-python",
   "name": "python",
   "nbconvert_exporter": "python",
   "pygments_lexer": "ipython3",
   "version": "3.8.3"
  }
 },
 "nbformat": 4,
 "nbformat_minor": 4
}
